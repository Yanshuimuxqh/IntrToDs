{
 "cells": [
  {
   "cell_type": "code",
   "execution_count": 1,
   "metadata": {},
   "outputs": [
    {
     "name": "stdout",
     "output_type": "stream",
     "text": [
      "★★★★★★\n",
      "★数据科学★\n",
      "★★★★★★"
     ]
    }
   ],
   "source": [
    "for i in range(len(\"数据科学\")+1):\n",
    "    \n",
    "    print(chr(0x2605),end=\"\")\n",
    "print(chr(0x2605))\n",
    "print(chr(0x2605)+\"数据科学\"+chr(0x2605))\n",
    "for i in range(len(\"数据科学\")+2):\n",
    "    \n",
    "    print(chr(0x2605),end=\"\")"
   ]
  },
  {
   "cell_type": "code",
   "execution_count": 1,
   "metadata": {},
   "outputs": [
    {
     "name": "stdout",
     "output_type": "stream",
     "text": [
      "1\n",
      "4\n",
      "7\n"
     ]
    }
   ],
   "source": [
    "x=4\n",
    "y=1\n",
    "z=7\n",
    "\n",
    "p = sorted([x, y, z])\n",
    "for num in p:\n",
    "    print(num)\n"
   ]
  },
  {
   "cell_type": "code",
   "execution_count": 3,
   "metadata": {},
   "outputs": [
    {
     "name": "stdout",
     "output_type": "stream",
     "text": [
      "9\n",
      "9\n",
      "4\n",
      "1\n"
     ]
    }
   ],
   "source": [
    "\n",
    "w = 9\n",
    "r = sorted([w, x, y, z], reverse=True)\n",
    "for num in r:\n",
    "    print(num)\n"
   ]
  },
  {
   "cell_type": "code",
   "execution_count": 4,
   "metadata": {},
   "outputs": [
    {
     "name": "stdout",
     "output_type": "stream",
     "text": [
      "1\n",
      "3\n",
      "5\n",
      "7\n",
      "9\n",
      "11\n",
      "13\n",
      "15\n",
      "17\n",
      "19\n",
      "21\n",
      "23\n",
      "25\n",
      "27\n",
      "29\n",
      "31\n",
      "33\n",
      "35\n",
      "37\n",
      "39\n",
      "41\n",
      "43\n",
      "45\n",
      "47\n",
      "49\n",
      "51\n",
      "53\n",
      "55\n",
      "57\n",
      "59\n",
      "61\n",
      "63\n",
      "65\n",
      "67\n",
      "69\n",
      "71\n",
      "73\n",
      "75\n",
      "77\n",
      "79\n",
      "81\n",
      "83\n",
      "85\n",
      "87\n",
      "89\n",
      "91\n",
      "93\n",
      "95\n",
      "97\n",
      "99\n"
     ]
    }
   ],
   "source": [
    "for num in range(1, 101, 2):\n",
    "    print(num)\n"
   ]
  },
  {
   "cell_type": "code",
   "execution_count": 5,
   "metadata": {},
   "outputs": [
    {
     "name": "stdout",
     "output_type": "stream",
     "text": [
      "1到100的和为: 5050\n"
     ]
    }
   ],
   "source": [
    "total = 0\n",
    "for num in range(1, 101):\n",
    "    total += num\n",
    "print(\"1到100的和为:\", total)\n"
   ]
  },
  {
   "cell_type": "code",
   "execution_count": 6,
   "metadata": {},
   "outputs": [
    {
     "name": "stdout",
     "output_type": "stream",
     "text": [
      "[5, 4, 3, 2, 1]\n"
     ]
    }
   ],
   "source": [
    "L = [1, 2, 3, 4, 5]\n",
    "r = []\n",
    "\n",
    "for item in reversed(L):\n",
    "    r.append(item)\n",
    "\n",
    "print(r)\n"
   ]
  },
  {
   "cell_type": "code",
   "execution_count": 8,
   "metadata": {},
   "outputs": [
    {
     "name": "stdout",
     "output_type": "stream",
     "text": [
      "输入的字符串包含由两个或两个以上连续出现的相同字符组成的子字符串。\n"
     ]
    }
   ],
   "source": [
    "def fun(S):\n",
    "    for i in range(len(S)):\n",
    "        if i + 1 < len(S) and S[i] == S[i + 1]:\n",
    "            j = i + 2\n",
    "            while j < len(S) and S[j] == S[i]:\n",
    "                j += 1\n",
    "            if j - i >= 2:\n",
    "                return True\n",
    "    return False\n",
    "S = \"sdjgfefgg\"\n",
    "if fun(S):\n",
    "    print(\"输入的字符串包含由两个或两个以上连续出现的相同字符组成的子字符串。\")\n",
    "else:\n",
    "    print(\"输入的字符串不包含满足条件的子字符串。\")\n"
   ]
  },
  {
   "cell_type": "code",
   "execution_count": 9,
   "metadata": {},
   "outputs": [
    {
     "name": "stdout",
     "output_type": "stream",
     "text": [
      "去掉空格后的字符串： DataScienceandEngineering\n"
     ]
    }
   ],
   "source": [
    "S = \"DataScience and Engineering\"\n",
    "t = S.replace(\" \", \"\")\n",
    "print(\"去掉空格后的字符串：\", t)\n"
   ]
  },
  {
   "cell_type": "code",
   "execution_count": 7,
   "metadata": {},
   "outputs": [
    {
     "name": "stdout",
     "output_type": "stream",
     "text": [
      "8 的三次方根是 2.0000\n"
     ]
    }
   ],
   "source": [
    "def cubic_root(x, epsilon=0.0001):\n",
    "    g = x / 3.0\n",
    "    while abs(g ** 3 - x) >= epsilon:\n",
    "        g = g - (g ** 3 - x) / (3 * g ** 2)\n",
    "    return g\n",
    "x = 8\n",
    "result = cubic_root(x)\n",
    "print(f\"{x} 的三次方根是 {result:.4f}\")\n"
   ]
  },
  {
   "cell_type": "code",
   "execution_count": 6,
   "metadata": {},
   "outputs": [
    {
     "name": "stdout",
     "output_type": "stream",
     "text": [
      "4 的阶乘是 24\n"
     ]
    }
   ],
   "source": [
    "n = int(input(\"请输入一个正整数 n：\"))\n",
    "f = 1\n",
    "\n",
    "if n == 0:\n",
    "    print(\"0 的阶乘是 1\")\n",
    "else:\n",
    "    for i in range(1, n + 1):\n",
    "        f *= i\n",
    "    print(f\"{n} 的阶乘是 {f}\")\n"
   ]
  }
 ],
 "metadata": {
  "kernelspec": {
   "display_name": "base",
   "language": "python",
   "name": "python3"
  },
  "language_info": {
   "codemirror_mode": {
    "name": "ipython",
    "version": 3
   },
   "file_extension": ".py",
   "mimetype": "text/x-python",
   "name": "python",
   "nbconvert_exporter": "python",
   "pygments_lexer": "ipython3",
   "version": "3.9.7"
  },
  "orig_nbformat": 4
 },
 "nbformat": 4,
 "nbformat_minor": 2
}
