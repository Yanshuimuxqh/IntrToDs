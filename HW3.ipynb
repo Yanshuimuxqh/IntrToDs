{
 "cells": [
  {
   "cell_type": "markdown",
   "metadata": {},
   "source": [
    "编写 Python 程序,完成十到二进制小数的转换"
   ]
  },
  {
   "cell_type": "code",
   "execution_count": 10,
   "metadata": {},
   "outputs": [
    {
     "name": "stdout",
     "output_type": "stream",
     "text": [
      "[1, 0, 0, 1, 0, 0]\n"
     ]
    }
   ],
   "source": [
    "x=36\n",
    "a=[]\n",
    "i=0\n",
    "while(x>1):\n",
    "    a.append(x%2)\n",
    "    x=int(x/2)\n",
    "a.append(x)\n",
    "a.reverse()\n",
    "print(a)\n",
    "    \n"
   ]
  },
  {
   "cell_type": "markdown",
   "metadata": {},
   "source": [
    "2。编写 Python 程序,产生 10-20 的随机浮点数。"
   ]
  },
  {
   "cell_type": "code",
   "execution_count": 11,
   "metadata": {},
   "outputs": [
    {
     "name": "stdout",
     "output_type": "stream",
     "text": [
      "18.178448525771106\n"
     ]
    }
   ],
   "source": [
    "import random\n",
    "\n",
    "x= random.uniform(10, 20)\n",
    "\n",
    "print(x)\n"
   ]
  },
  {
   "cell_type": "markdown",
   "metadata": {},
   "source": [
    "编写一个函数，使其能够用正则表达式的方式简单验证身份证号是否合法"
   ]
  },
  {
   "cell_type": "code",
   "execution_count": 18,
   "metadata": {},
   "outputs": [
    {
     "name": "stdout",
     "output_type": "stream",
     "text": [
      "False\n"
     ]
    }
   ],
   "source": [
    "import re\n",
    "\n",
    "def fun(id_card):\n",
    "    pattern = r'^[1-9]\\d{5}(19\\d{2}|20(?:0[0-9]|1[0-8]))((0[1-9]|1[0-2])(0[1-9]|[1-2][0-9]|3[0-1]))\\d{3}(\\d|X)$'\n",
    "    if not re.match(pattern, id_card):\n",
    "        return False\n",
    "    year = int(id_card[6:10])\n",
    "    if (year % 4 == 0 and year % 100 != 0) or (year % 400 == 0):\n",
    "        month = int(id_card[10:12])\n",
    "        day = int(id_card[12:14])\n",
    "        if month == 2 and (day < 1 or day > 29):\n",
    "            return False\n",
    "    else:\n",
    "        month = int(id_card[10:12])\n",
    "        day = int(id_card[12:14])\n",
    "        if month == 2 and (day < 1 or day > 28):\n",
    "            return False\n",
    "    return True\n",
    "\n",
    "id_card1 = \"320694199002298191\" \n",
    "print(fun(id_card1))  \n"
   ]
  },
  {
   "cell_type": "markdown",
   "metadata": {},
   "source": [
    "动手实现一个链表,使其能够完成增删改查的操作。"
   ]
  },
  {
   "cell_type": "code",
   "execution_count": 23,
   "metadata": {},
   "outputs": [
    {
     "name": "stdout",
     "output_type": "stream",
     "text": [
      "length: 4\n",
      "2\n",
      "1\n",
      "4\n",
      "3\n",
      "True\n",
      "False\n",
      "length: 3\n",
      "2\n",
      "4\n",
      "3\n"
     ]
    }
   ],
   "source": [
    "class Node(object):\n",
    "    def __init__(self, item):\n",
    "        self.item = item\n",
    "        self.next = None\n",
    "class Link(object):\n",
    "    def __init__(self):\n",
    "        self.head = None\n",
    " \n",
    "    def is_empty(self):\n",
    "        return self.head == None\n",
    " \n",
    "    def length(self):\n",
    "        cur = self.head\n",
    "        count = 0\n",
    "        while cur != None:\n",
    "            count += 1\n",
    "            cur = cur.next\n",
    "        return count\n",
    " \n",
    "    def travel(self):\n",
    "        cur = self.head\n",
    "        while cur != None:\n",
    "            print(cur.item)\n",
    "            cur = cur.next\n",
    " \n",
    "    def add(self, item):\n",
    "        node = Node(item)\n",
    "        node.next = self.head\n",
    "        self.head = node\n",
    " \n",
    "    def append(self, item):\n",
    "        node = Node(item)\n",
    "        if self.is_empty():\n",
    "            self.head = node\n",
    "        else:\n",
    "            cur = self.head\n",
    "            while cur.next != None:\n",
    "                cur = cur.next\n",
    "            cur.next = node\n",
    " \n",
    "    def insert(self, pos, item):\n",
    "        if pos <= 0:\n",
    "            self.add(item)\n",
    "        elif pos > (self.length()-1):\n",
    "            self.append(item)\n",
    "        else:\n",
    "            node = Node(item)\n",
    "            count = 0\n",
    "            pre = self.head\n",
    "            while count < (pos-1):\n",
    "                count += 1\n",
    "                pre = pre.next\n",
    "            node.next = pre.next\n",
    "            pre.next = node\n",
    " \n",
    "    def remove(self, item):\n",
    "        cur = self.head\n",
    "        pre = None\n",
    "        while cur != None:\n",
    "            if cur.item == item:\n",
    "                if not pre:\n",
    "                    self.head = cur.next\n",
    "                else:\n",
    "                    pre.next = cur.next\n",
    "                break\n",
    "            else:\n",
    "                pre = cur\n",
    "                cur = cur.next\n",
    " \n",
    "    def search(self, item):\n",
    "        \"\"\"判断节点是否存在\"\"\"\n",
    "        cur = self.head\n",
    "        while cur != None:\n",
    "            if cur.item == item:\n",
    "                return True\n",
    "            cur = cur.next\n",
    "        return False\n",
    " \n",
    "if __name__ == \"__main__\":\n",
    "    ll = Link()\n",
    "    ll.add(1)\n",
    "    ll.add(2)\n",
    "    ll.append(3)\n",
    "    ll.insert(2,4)\n",
    "    print(\"length:\",ll.length())\n",
    "    ll.travel()\n",
    "    print(ll.search(3))\n",
    "    print(ll.search(5))\n",
    "    ll.remove(1)\n",
    "    print(\"length:\",ll.length())\n",
    "    ll.travel()        "
   ]
  },
  {
   "cell_type": "markdown",
   "metadata": {},
   "source": [
    "编写 Python 程序,通过 for 循环,用 print 语输出1到 100 之间的所有偶数"
   ]
  },
  {
   "cell_type": "code",
   "execution_count": 24,
   "metadata": {},
   "outputs": [
    {
     "name": "stdout",
     "output_type": "stream",
     "text": [
      "2\n",
      "4\n",
      "6\n",
      "8\n",
      "10\n",
      "12\n",
      "14\n",
      "16\n",
      "18\n",
      "20\n",
      "22\n",
      "24\n",
      "26\n",
      "28\n",
      "30\n",
      "32\n",
      "34\n",
      "36\n",
      "38\n",
      "40\n",
      "42\n",
      "44\n",
      "46\n",
      "48\n",
      "50\n",
      "52\n",
      "54\n",
      "56\n",
      "58\n",
      "60\n",
      "62\n",
      "64\n",
      "66\n",
      "68\n",
      "70\n",
      "72\n",
      "74\n",
      "76\n",
      "78\n",
      "80\n",
      "82\n",
      "84\n",
      "86\n",
      "88\n",
      "90\n",
      "92\n",
      "94\n",
      "96\n",
      "98\n",
      "100\n"
     ]
    }
   ],
   "source": [
    "for num in range(1, 101):\n",
    "    if num % 2 == 0:\n",
    "        print(num)\n"
   ]
  },
  {
   "cell_type": "markdown",
   "metadata": {},
   "source": [
    "用if 语句实现百分制转等级制(考试成绩,60 分以下为不合格,60-74 分为合格75-89 分为良好,90 分以上为优秀)。"
   ]
  },
  {
   "cell_type": "code",
   "execution_count": 27,
   "metadata": {},
   "outputs": [
    {
     "name": "stdout",
     "output_type": "stream",
     "text": [
      "成绩：90，等级：优秀\n"
     ]
    }
   ],
   "source": [
    "score = int(input())\n",
    "if score < 60:\n",
    "    grade = \"不合格\"\n",
    "elif score >= 60 and score <= 74:\n",
    "    grade = \"合格\"\n",
    "elif score >= 75 and score <= 89:\n",
    "    grade = \"良好\"\n",
    "else:\n",
    "    grade = \"优秀\"\n",
    "print(f\"成绩：{score}，等级：{grade}\")\n"
   ]
  },
  {
   "cell_type": "markdown",
   "metadata": {},
   "source": [
    "编写 Python 程序,求两个正整数的最大公约数。"
   ]
  },
  {
   "cell_type": "code",
   "execution_count": 28,
   "metadata": {},
   "outputs": [
    {
     "name": "stdout",
     "output_type": "stream",
     "text": [
      "23 和 46 的最大公约数是 23\n"
     ]
    }
   ],
   "source": [
    "def fun(a, b):\n",
    "    while b:\n",
    "        a, b = b, a % b\n",
    "    return a\n",
    "num1 = int(input())\n",
    "num2 = int(input())\n",
    "result = fun(num1, num2)\n",
    "print(f\"{num1} 和 {num2} 的最大公约数是 {result}\")\n"
   ]
  },
  {
   "cell_type": "markdown",
   "metadata": {},
   "source": [
    "使用 Python 随机生成多组长度递增的随机数列,使用不同的排序算法(如选择排序和归并排序)对这些数列的数据排序,请分析不同排序算法在不同长度数列下的运行效果。"
   ]
  },
  {
   "cell_type": "code",
   "execution_count": 33,
   "metadata": {},
   "outputs": [
    {
     "name": "stdout",
     "output_type": "stream",
     "text": [
      "长度为 100 的随机数列排序时间：\n",
      "选择排序：0.000000 秒\n",
      "归并排序：0.000000 秒\n",
      "快速排序：0.000000 秒\n",
      "\n",
      "长度为 1000 的随机数列排序时间：\n",
      "选择排序：0.017735 秒\n",
      "归并排序：0.010722 秒\n",
      "快速排序：0.001998 秒\n",
      "\n",
      "长度为 10000 的随机数列排序时间：\n",
      "选择排序：2.829858 秒\n",
      "归并排序：0.045795 秒\n",
      "快速排序：0.013989 秒\n",
      "\n"
     ]
    }
   ],
   "source": [
    "import random\n",
    "import time\n",
    "\n",
    "# 选择排序\n",
    "def selection_sort(arr):\n",
    "    n = len(arr)\n",
    "    for i in range(n):\n",
    "        min_idx = i\n",
    "        for j in range(i + 1, n):\n",
    "            if arr[j] < arr[min_idx]:\n",
    "                min_idx = j\n",
    "        arr[i], arr[min_idx] = arr[min_idx], arr[i]\n",
    "\n",
    "# 冒泡排序\n",
    "def bubble_sort(arr):\n",
    "    n = len(arr)\n",
    "    for i in range(n):\n",
    "        for j in range(0, n - i - 1):\n",
    "            if arr[j] > arr[j + 1]:\n",
    "                arr[j], arr[j + 1] = arr[j + 1], arr[j]\n",
    "\n",
    "# 归并排序\n",
    "def merge_sort(arr):\n",
    "    if len(arr) > 1:\n",
    "        mid = len(arr) // 2\n",
    "        left_half = arr[:mid]\n",
    "        right_half = arr[mid:]\n",
    "\n",
    "        merge_sort(left_half)\n",
    "        merge_sort(right_half)\n",
    "\n",
    "        i = j = k = 0\n",
    "\n",
    "        while i < len(left_half) and j < len(right_half):\n",
    "            if left_half[i] < right_half[j]:\n",
    "                arr[k] = left_half[i]\n",
    "                i += 1\n",
    "            else:\n",
    "                arr[k] = right_half[j]\n",
    "                j += 1\n",
    "            k += 1\n",
    "\n",
    "        while i < len(left_half):\n",
    "            arr[k] = left_half[i]\n",
    "            i += 1\n",
    "            k += 1\n",
    "\n",
    "        while j < len(right_half):\n",
    "            arr[k] = right_half[j]\n",
    "            j += 1\n",
    "            k += 1\n",
    "\n",
    "# 快速排序\n",
    "def quick_sort(arr):\n",
    "    if len(arr) <= 1:\n",
    "        return arr\n",
    "\n",
    "    pivot = arr[len(arr) // 2]\n",
    "    left = [x for x in arr if x < pivot]\n",
    "    middle = [x for x in arr if x == pivot]\n",
    "    right = [x for x in arr if x > pivot]\n",
    "\n",
    "    return quick_sort(left) + middle + quick_sort(right)\n",
    "\n",
    "# 生成随机数列\n",
    "def generate_random_list(length):\n",
    "    return [random.randint(1, 1000) for _ in range(length)]\n",
    "\n",
    "# 测试不同排序算法在不同长度数列下的运行效果\n",
    "for length in [100, 1000, 10000]:\n",
    "    arr = generate_random_list(length)\n",
    "    \n",
    "    # 选择排序\n",
    "    selection_arr = arr.copy()\n",
    "    start_time = time.time()\n",
    "    selection_sort(selection_arr)\n",
    "    end_time = time.time()\n",
    "    selection_time = end_time - start_time\n",
    "    \n",
    "    # 冒泡排序\n",
    "    bubble_arr = arr.copy()\n",
    "    start_time = time.time()\n",
    "    bubble_sort(bubble_arr)\n",
    "    end_time = time.time()\n",
    "    bubble_time = end_time - start_time\n",
    "    \n",
    "    # 归并排序\n",
    "    merge_arr = arr.copy()\n",
    "    start_time = time.time()\n",
    "    merge_sort(merge_arr)\n",
    "    end_time = time.time()\n",
    "    merge_time = end_time - start_time\n",
    "    \n",
    "    # 快速排序\n",
    "    quick_arr = arr.copy()\n",
    "    start_time = time.time()\n",
    "    quick_sort(quick_arr)\n",
    "    end_time = time.time()\n",
    "    quick_time = end_time - start_time\n",
    "    \n",
    "    print(f\"长度为 {length} 的随机数列排序时间：\")\n",
    "    print(f\"选择排序：{selection_time:.6f} 秒\")\n",
    "    # print(f\"冒泡排序：{bubble_time:.6f} 秒\")\n",
    "    print(f\"归并排序：{merge_time:.6f} 秒\")\n",
    "    print(f\"快速排序：{quick_time:.6f} 秒\")\n",
    "    print()\n"
   ]
  },
  {
   "cell_type": "code",
   "execution_count": null,
   "metadata": {},
   "outputs": [
    {
     "name": "stdout",
     "output_type": "stream",
     "text": [
      "3000\n"
     ]
    }
   ],
   "source": [
    "#查看递归深度\n",
    "import sys\n",
    "print(sys.getrecursionlimit())\n"
   ]
  },
  {
   "cell_type": "markdown",
   "metadata": {},
   "source": [
    "对于数组 A[0,1,·,n-1],请构建一个数组 B[0,1,·,n-1],其中 B中的元素B[i]=A[O]XA[1]X·.·X A[i-1]XA[i+1]X..·XA[n-1]。不能使用除法"
   ]
  },
  {
   "cell_type": "code",
   "execution_count": 36,
   "metadata": {},
   "outputs": [
    {
     "name": "stdout",
     "output_type": "stream",
     "text": [
      "[120, 60, 40, 30, 24]\n"
     ]
    }
   ],
   "source": [
    "def fun(arr):\n",
    "    n = len(arr)\n",
    "    left = [1] * n\n",
    "    right = [1] * n\n",
    "    result = [0] * n\n",
    "    for i in range(1, n):\n",
    "        left[i] = left[i - 1] * arr[i - 1]\n",
    "    for i in range(n - 2, -1, -1):\n",
    "        right[i] = right[i + 1] * arr[i + 1]\n",
    "    for i in range(n):\n",
    "        result[i] = left[i] * right[i]\n",
    "\n",
    "    return result\n",
    "A = [1,2,3,4,5]\n",
    "B = fun(A)\n",
    "print(B)  \n"
   ]
  }
 ],
 "metadata": {
  "kernelspec": {
   "display_name": "Python 3",
   "language": "python",
   "name": "python3"
  },
  "language_info": {
   "codemirror_mode": {
    "name": "ipython",
    "version": 3
   },
   "file_extension": ".py",
   "mimetype": "text/x-python",
   "name": "python",
   "nbconvert_exporter": "python",
   "pygments_lexer": "ipython3",
   "version": "3.9.7"
  },
  "orig_nbformat": 4
 },
 "nbformat": 4,
 "nbformat_minor": 2
}
